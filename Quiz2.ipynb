{
  "nbformat": 4,
  "nbformat_minor": 0,
  "metadata": {
    "colab": {
      "name": "Quiz2.ipynb",
      "provenance": [],
      "collapsed_sections": [],
      "authorship_tag": "ABX9TyOCvn5MZdN/wNF53aFCwPLJ",
      "include_colab_link": true
    },
    "kernelspec": {
      "name": "python3",
      "display_name": "Python 3"
    }
  },
  "cells": [
    {
      "cell_type": "markdown",
      "metadata": {
        "id": "view-in-github",
        "colab_type": "text"
      },
      "source": [
        "<a href=\"https://colab.research.google.com/github/ryebreadc/CS464-Quiz2/blob/master/Quiz2.ipynb\" target=\"_parent\"><img src=\"https://colab.research.google.com/assets/colab-badge.svg\" alt=\"Open In Colab\"/></a>"
      ]
    },
    {
      "cell_type": "code",
      "metadata": {
        "id": "nPQ4qTINy8LF",
        "colab_type": "code",
        "colab": {}
      },
      "source": [
        "def print_board(board_in):\n",
        "  for x in r:\n",
        "    print(\" \".join(board_in[x]))"
      ],
      "execution_count": 39,
      "outputs": []
    },
    {
      "cell_type": "code",
      "metadata": {
        "id": "p6yS9HidtJn2",
        "colab_type": "code",
        "colab": {
          "base_uri": "https://localhost:8080/",
          "height": 109
        },
        "outputId": "d00bffea-232b-482a-f4b8-3021fa8429df"
      },
      "source": [
        "board = []\n",
        "r = range(5)\n",
        "for x in r:\n",
        "  board.append([\"O\"] * 5)\n",
        "\n",
        "print_board(board)\n",
        "\n"
      ],
      "execution_count": 40,
      "outputs": [
        {
          "output_type": "stream",
          "text": [
            "O O O O O\n",
            "O O O O O\n",
            "O O O O O\n",
            "O O O O O\n",
            "O O O O O\n"
          ],
          "name": "stdout"
        }
      ]
    }
  ]
}