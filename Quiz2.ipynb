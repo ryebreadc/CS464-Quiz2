{
  "nbformat": 4,
  "nbformat_minor": 0,
  "metadata": {
    "colab": {
      "name": "Quiz2.ipynb",
      "provenance": [],
      "collapsed_sections": [],
      "authorship_tag": "ABX9TyMECLgxf6ZQNBsC6cAaIMu6",
      "include_colab_link": true
    },
    "kernelspec": {
      "name": "python3",
      "display_name": "Python 3"
    }
  },
  "cells": [
    {
      "cell_type": "markdown",
      "metadata": {
        "id": "view-in-github",
        "colab_type": "text"
      },
      "source": [
        "<a href=\"https://colab.research.google.com/github/ryebreadc/CS464-Quiz2/blob/master/Quiz2.ipynb\" target=\"_parent\"><img src=\"https://colab.research.google.com/assets/colab-badge.svg\" alt=\"Open In Colab\"/></a>"
      ]
    },
    {
      "cell_type": "code",
      "metadata": {
        "id": "bB1CX2Ax059k",
        "colab_type": "code",
        "colab": {}
      },
      "source": [
        "from random import randint"
      ],
      "execution_count": 42,
      "outputs": []
    },
    {
      "cell_type": "code",
      "metadata": {
        "id": "nPQ4qTINy8LF",
        "colab_type": "code",
        "colab": {}
      },
      "source": [
        "def print_board(board_in):\n",
        "  for x in r:\n",
        "    print(\" \".join(board_in[x]))"
      ],
      "execution_count": 39,
      "outputs": []
    },
    {
      "cell_type": "code",
      "metadata": {
        "id": "kVI_Acn40_tf",
        "colab_type": "code",
        "colab": {}
      },
      "source": [
        "def random_row(board_in):\n",
        "  return randint(0, len(board_in) - 1)"
      ],
      "execution_count": 51,
      "outputs": []
    },
    {
      "cell_type": "code",
      "metadata": {
        "id": "LNFYxKZ-1Zdi",
        "colab_type": "code",
        "colab": {}
      },
      "source": [
        "def random_col(board_in):\n",
        "  return randint(0, len(board_in) - 1)"
      ],
      "execution_count": 52,
      "outputs": []
    },
    {
      "cell_type": "code",
      "metadata": {
        "id": "p6yS9HidtJn2",
        "colab_type": "code",
        "colab": {
          "base_uri": "https://localhost:8080/",
          "height": 182
        },
        "outputId": "c9b9d7c7-1e47-43f9-f07d-e7a775e3e1a8"
      },
      "source": [
        "board = []\n",
        "r = range(5)\n",
        "for x in r:\n",
        "  board.append([\"O\"] * 5)\n",
        "\n",
        "print_board(board)\n",
        "\n",
        "ship_row = random_row(board)\n",
        "ship_col = random_col(board)\n",
        "print(ship_row)\n",
        "print(ship_col)\n",
        "\n",
        "guess_row = int(input(\"Guess Row: \"))\n",
        "guess_col = int(input(\"Guess Col: \"))\n",
        "\n"
      ],
      "execution_count": 74,
      "outputs": [
        {
          "output_type": "stream",
          "text": [
            "O O O O O\n",
            "O O O O O\n",
            "O O O O O\n",
            "O O O O O\n",
            "O O O O O\n",
            "0\n",
            "0\n",
            "Guess Row: 0\n",
            "Guess Col: 0\n"
          ],
          "name": "stdout"
        }
      ]
    }
  ]
}