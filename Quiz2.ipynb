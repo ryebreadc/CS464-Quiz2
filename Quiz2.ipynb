{
  "nbformat": 4,
  "nbformat_minor": 0,
  "metadata": {
    "colab": {
      "name": "Quiz2.ipynb",
      "provenance": [],
      "collapsed_sections": [],
      "authorship_tag": "ABX9TyNxsODhuNs/NGbPGdvZbPYp",
      "include_colab_link": true
    },
    "kernelspec": {
      "name": "python3",
      "display_name": "Python 3"
    }
  },
  "cells": [
    {
      "cell_type": "markdown",
      "metadata": {
        "id": "view-in-github",
        "colab_type": "text"
      },
      "source": [
        "<a href=\"https://colab.research.google.com/github/ryebreadc/CS464-Quiz2/blob/master/Quiz2.ipynb\" target=\"_parent\"><img src=\"https://colab.research.google.com/assets/colab-badge.svg\" alt=\"Open In Colab\"/></a>"
      ]
    },
    {
      "cell_type": "code",
      "metadata": {
        "id": "bB1CX2Ax059k",
        "colab_type": "code",
        "colab": {}
      },
      "source": [
        "from random import randint"
      ],
      "execution_count": 42,
      "outputs": []
    },
    {
      "cell_type": "code",
      "metadata": {
        "id": "nPQ4qTINy8LF",
        "colab_type": "code",
        "colab": {}
      },
      "source": [
        "def print_board(board_in):\n",
        "  for x in r:\n",
        "    print(\" \".join(board_in[x]))"
      ],
      "execution_count": 39,
      "outputs": []
    },
    {
      "cell_type": "code",
      "metadata": {
        "id": "kVI_Acn40_tf",
        "colab_type": "code",
        "colab": {}
      },
      "source": [
        "def random_row(board_in):\n",
        "  return randint(0, len(board_in) - 1)"
      ],
      "execution_count": 51,
      "outputs": []
    },
    {
      "cell_type": "code",
      "metadata": {
        "id": "LNFYxKZ-1Zdi",
        "colab_type": "code",
        "colab": {}
      },
      "source": [
        "def random_col(board_in):\n",
        "  return randint(0, len(board_in) - 1)"
      ],
      "execution_count": 52,
      "outputs": []
    },
    {
      "cell_type": "code",
      "metadata": {
        "id": "p6yS9HidtJn2",
        "colab_type": "code",
        "colab": {
          "base_uri": "https://localhost:8080/",
          "height": 807
        },
        "outputId": "08a8eef2-8249-40cf-bcae-859d072e2beb"
      },
      "source": [
        "board = []\n",
        "r = range(5)\n",
        "for x in r:\n",
        "  board.append([\"O\"] * 5)\n",
        "\n",
        "print_board(board)\n",
        "\n",
        "ship_row = random_row(board)\n",
        "ship_col = random_col(board)\n",
        "#print(ship_row)\n",
        "#print(ship_col)\n",
        "\n",
        "for turn in range(4):\n",
        "\n",
        "  print(\"Turn: \", turn + 1)\n",
        "  guess_row = int(input(\"Guess Row: \"))\n",
        "  guess_col = int(input(\"Guess Col: \"))\n",
        "\n",
        "  if((guess_row == ship_row) and (guess_col == ship_col)):\n",
        "    print(\"Congratulations! You sank my battleship!\")\n",
        "    break;\n",
        "  else:\n",
        "    if((guess_row not in range(5)) or (guess_col not in range(5))):\n",
        "      print(\"Oops, that's not even in the coean.\")\n",
        "    elif(board[guess_row][guess_col] == \"X\"):\n",
        "      print(\"You guessed that one already.\")\n",
        "\n",
        "\n",
        "    board[guess_row][guess_col] = \"X\"\n",
        "    print(\"You missed my battleship!\")\n",
        "    print_board(board)\n",
        "\n",
        "    if(turn == 3):\n",
        "      print(\"Game Over.\")"
      ],
      "execution_count": 96,
      "outputs": [
        {
          "output_type": "stream",
          "text": [
            "O O O O O\n",
            "O O O O O\n",
            "O O O O O\n",
            "O O O O O\n",
            "O O O O O\n",
            "Turn:  1\n",
            "Guess Row: 3\n",
            "Guess Col: 1\n",
            "You missed my battleship!\n",
            "O O O O O\n",
            "O O O O O\n",
            "O O O O O\n",
            "O X O O O\n",
            "O O O O O\n",
            "Turn:  2\n",
            "Guess Row: 2\n",
            "Guess Col: 4\n",
            "You missed my battleship!\n",
            "O O O O O\n",
            "O O O O O\n",
            "O O O O X\n",
            "O X O O O\n",
            "O O O O O\n",
            "Turn:  3\n",
            "Guess Row: 2\n",
            "Guess Col: 4\n",
            "You guessed that one already.\n",
            "You missed my battleship!\n",
            "O O O O O\n",
            "O O O O O\n",
            "O O O O X\n",
            "O X O O O\n",
            "O O O O O\n",
            "Turn:  4\n",
            "Guess Row: 3\n",
            "Guess Col: 2\n",
            "You missed my battleship!\n",
            "O O O O O\n",
            "O O O O O\n",
            "O O O O X\n",
            "O X X O O\n",
            "O O O O O\n",
            "Game Over.\n"
          ],
          "name": "stdout"
        }
      ]
    }
  ]
}